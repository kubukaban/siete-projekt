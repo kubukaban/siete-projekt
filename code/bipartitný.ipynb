{
 "cells": [
  {
   "cell_type": "code",
   "execution_count": 53,
   "metadata": {},
   "outputs": [],
   "source": [
    "import networkx as nx\n",
    "import numpy as np\n",
    "import matplotlib.pyplot as plt\n",
    "import pylab\n",
    "from matplotlib.colors import LinearSegmentedColormap\n"
   ]
  },
  {
   "cell_type": "code",
   "execution_count": 54,
   "metadata": {},
   "outputs": [],
   "source": [
    "graph = {}\n",
    "nodes = set()\n",
    "edges = []\n",
    "with open('linky.txt','r',) as file:\n",
    "    for line in file:\n",
    "        stanice = line.split(':  ')[1].strip('\\n').split(';')\n",
    "        linka =  line.split(':  ')[0]\n",
    "        #print(linka)\n",
    "        for i,stanica in enumerate(stanice[:-1]):\n",
    "            \n",
    "            nodes.add(stanica)\n",
    "            edges.append((stanice[i-1],stanica))\n",
    "            if i != 0:\n",
    "                try:\n",
    "                    graph[stanice[i-1]][stanica] += 1\n",
    "                except KeyError:\n",
    "                    try:\n",
    "                        graph[stanice[i-1]][stanica] = 1\n",
    "                    except KeyError:\n",
    "                        graph[stanice[i-1]] = {}\n",
    "                        graph[stanice[i-1]][stanica] = 1\n",
    "\n",
    "G = nx.DiGraph()\n",
    "for node in graph:\n",
    "    for neigbour in graph[node]:\n",
    "        G.add_edges_from([(node,neigbour)], weight = graph[node][neigbour])"
   ]
  },
  {
   "cell_type": "code",
   "execution_count": 55,
   "metadata": {},
   "outputs": [],
   "source": [
    "def find_shortest_path_with_transfers(graph, start, end):\n",
    "    try:\n",
    "        shortest_path = nx.shortest_path(graph, start, end)\n",
    "        return shortest_path\n",
    "    except nx.NetworkXNoPath:\n",
    "        return None"
   ]
  },
  {
   "cell_type": "code",
   "execution_count": 56,
   "metadata": {},
   "outputs": [],
   "source": [
    "Gb = nx.Graph()\n",
    "line_counters = {}\n",
    "\n",
    "with open('linky.txt', 'r') as file:\n",
    "    for line in file:\n",
    "        parts = line.strip().split(\":\")\n",
    "        link_number = parts[0].strip()\n",
    "        stops = [stop.strip() for stop in parts[1].split(\";\")][:-1]\n",
    "        #print(stops)\n",
    "        Gb.add_node(link_number, bipartite = 0)\n",
    "        Gb.add_nodes_from(stops, bipartite = 1)\n",
    "        for stop in stops:\n",
    "            Gb.add_edge(link_number, stop)\n",
    "\n"
   ]
  },
  {
   "cell_type": "code",
   "execution_count": 57,
   "metadata": {},
   "outputs": [],
   "source": [
    "least_transfer = {station: {} for station in G.nodes()}\n",
    "for station1 in G.nodes():\n",
    "    for station2 in G.nodes():\n",
    "        if station1 != station2:\n",
    "            path = find_shortest_path_with_transfers(Gb, station1, station2)\n",
    "            least_transfer[station1][station2] = path \n",
    "            least_transfer[station2][station1] = path[::-1]\n",
    "        "
   ]
  },
  {
   "cell_type": "code",
   "execution_count": 58,
   "metadata": {},
   "outputs": [],
   "source": [
    "number_of_transfers = {station: {} for station in G.nodes()}\n",
    "for station1 in G.nodes():\n",
    "    for station2 in G.nodes:\n",
    "        number_of_transfers[station1][station2] = -1\n",
    "        if station1 != station2:\n",
    "            path = least_transfer[station1][station2]\n",
    "            for element in path:\n",
    "                try:\n",
    "                    int(element)\n",
    "                    number_of_transfers[station1][station2] += 1\n",
    "                except ValueError:\n",
    "                    continue\n",
    "        else:\n",
    "            number_of_transfers[station1][station2] = 0"
   ]
  },
  {
   "cell_type": "code",
   "execution_count": 59,
   "metadata": {},
   "outputs": [
    {
     "name": "stdout",
     "output_type": "stream",
     "text": [
      "0\n",
      "1\n",
      "2\n",
      "['Danubiana', '90', 'Landererova', '50', 'Most SNP', '29', 'Hrad Devín']\n"
     ]
    }
   ],
   "source": [
    "print(number_of_transfers[\"Riviéra\"][\"Nad lúčkami\"])\n",
    "print(number_of_transfers[\"Nad lúčkami\"][\"Cintorín Slávičie\"])\n",
    "print(number_of_transfers[\"Danubiana\"][\"Hrad Devín\"])\n",
    "print(least_transfer[\"Danubiana\"][\"Hrad Devín\"])\n"
   ]
  },
  {
   "cell_type": "code",
   "execution_count": 60,
   "metadata": {},
   "outputs": [
    {
     "name": "stdout",
     "output_type": "stream",
     "text": [
      "1.4457648005633519\n"
     ]
    }
   ],
   "source": [
    "trans = []\n",
    "combinations = 0\n",
    "sum_of_transfers = 0\n",
    "for station1 in G.nodes():\n",
    "    for station2 in G.nodes():\n",
    "        value = number_of_transfers[station1][station2]\n",
    "        sum_of_transfers +=  value\n",
    "        trans.append(value)\n",
    "        combinations += 1\n",
    "print(sum_of_transfers/combinations)\n"
   ]
  },
  {
   "cell_type": "code",
   "execution_count": 61,
   "metadata": {},
   "outputs": [
    {
     "data": {
      "image/png": "[encoded data removed]",
      "text/plain": [
       "<Figure size 640x480 with 1 Axes>"
      ]
     },
     "metadata": {},
     "output_type": "display_data"
    }
   ],
   "source": [
    "unique_values = sorted(set(trans))\n",
    "\n",
    "# Calculate the width of each bin\n",
    "bin_width = 1\n",
    "\n",
    "# Create a frequency plot\n",
    "plt.hist(trans, bins=[val - bin_width / 2 for val in unique_values] + [unique_values[-1] + bin_width / 2], align='mid', rwidth=0.8)\n",
    "plt.xlabel('Počet prestupov')\n",
    "plt.ylabel('Frekvencia')\n",
    "plt.yscale(\"log\")\n",
    "plt.title('Frekvencia prestupov')\n",
    "plt.xticks(unique_values)\n",
    "plt.show()"
   ]
  }
 ],
 "metadata": {
  "kernelspec": {
   "display_name": "Python 3",
   "language": "python",
   "name": "python3"
  },
  "language_info": {
   "codemirror_mode": {
    "name": "ipython",
    "version": 3
   },
   "file_extension": ".py",
   "mimetype": "text/x-python",
   "name": "python",
   "nbconvert_exporter": "python",
   "pygments_lexer": "ipython3",
   "version": "3.11.1"
  }
 },
 "nbformat": 4,
 "nbformat_minor": 2
}
