{
  "cells": [
    {
      "cell_type": "markdown",
      "metadata": {
        "id": "nRdYUksZXt67"
      },
      "source": [
        "Vytvorenie grafu"
      ]
    },
    {
      "cell_type": "code",
      "execution_count": null,
      "metadata": {
        "id": "QoCpLUXFXt69"
      },
      "outputs": [],
      "source": [
        "import networkx as nx\n",
        "import numpy as np\n",
        "import matplotlib.pyplot as plt\n",
        "import pylab\n",
        "from matplotlib.colors import LinearSegmentedColormap\n",
        "\n"
      ]
    },
    {
      "cell_type": "code",
      "execution_count": null,
      "metadata": {
        "colab": {
          "base_uri": "https://localhost:8080/",
          "height": 347
        },
        "id": "UpP7v_RsXt6-",
        "outputId": "e3da4646-8aef-44ed-a3b6-4951ddac9a1a"
      },
      "outputs": [
        {
          "output_type": "error",
          "ename": "UnicodeDecodeError",
          "evalue": "'utf-8' codec can't decode byte 0xe1 in position 9: invalid continuation byte",
          "traceback": [
            "\u001b[0;31m---------------------------------------------------------------------------\u001b[0m",
            "\u001b[0;31mUnicodeDecodeError\u001b[0m                        Traceback (most recent call last)",
            "\u001b[0;32m<ipython-input-3-a2cb21d13363>\u001b[0m in \u001b[0;36m<cell line: 4>\u001b[0;34m()\u001b[0m\n\u001b[1;32m      3\u001b[0m \u001b[0medges\u001b[0m \u001b[0;34m=\u001b[0m \u001b[0;34m[\u001b[0m\u001b[0;34m]\u001b[0m\u001b[0;34m\u001b[0m\u001b[0;34m\u001b[0m\u001b[0m\n\u001b[1;32m      4\u001b[0m \u001b[0;32mwith\u001b[0m \u001b[0mopen\u001b[0m\u001b[0;34m(\u001b[0m\u001b[0;34m'linky.txt'\u001b[0m\u001b[0;34m,\u001b[0m\u001b[0;34m'r'\u001b[0m\u001b[0;34m)\u001b[0m \u001b[0;32mas\u001b[0m \u001b[0mfile\u001b[0m\u001b[0;34m:\u001b[0m\u001b[0;34m\u001b[0m\u001b[0;34m\u001b[0m\u001b[0m\n\u001b[0;32m----> 5\u001b[0;31m     \u001b[0;32mfor\u001b[0m \u001b[0mline\u001b[0m \u001b[0;32min\u001b[0m \u001b[0mfile\u001b[0m\u001b[0;34m:\u001b[0m\u001b[0;34m\u001b[0m\u001b[0;34m\u001b[0m\u001b[0m\n\u001b[0m\u001b[1;32m      6\u001b[0m         \u001b[0mstanice\u001b[0m \u001b[0;34m=\u001b[0m \u001b[0mline\u001b[0m\u001b[0;34m.\u001b[0m\u001b[0msplit\u001b[0m\u001b[0;34m(\u001b[0m\u001b[0;34m':  '\u001b[0m\u001b[0;34m)\u001b[0m\u001b[0;34m[\u001b[0m\u001b[0;36m1\u001b[0m\u001b[0;34m]\u001b[0m\u001b[0;34m.\u001b[0m\u001b[0mstrip\u001b[0m\u001b[0;34m(\u001b[0m\u001b[0;34m'\\n'\u001b[0m\u001b[0;34m)\u001b[0m\u001b[0;34m.\u001b[0m\u001b[0msplit\u001b[0m\u001b[0;34m(\u001b[0m\u001b[0;34m';'\u001b[0m\u001b[0;34m)\u001b[0m\u001b[0;34m\u001b[0m\u001b[0;34m\u001b[0m\u001b[0m\n\u001b[1;32m      7\u001b[0m         \u001b[0mlinka\u001b[0m \u001b[0;34m=\u001b[0m  \u001b[0mline\u001b[0m\u001b[0;34m.\u001b[0m\u001b[0msplit\u001b[0m\u001b[0;34m(\u001b[0m\u001b[0;34m':  '\u001b[0m\u001b[0;34m)\u001b[0m\u001b[0;34m[\u001b[0m\u001b[0;36m0\u001b[0m\u001b[0;34m]\u001b[0m\u001b[0;34m\u001b[0m\u001b[0;34m\u001b[0m\u001b[0m\n",
            "\u001b[0;32m/usr/lib/python3.10/codecs.py\u001b[0m in \u001b[0;36mdecode\u001b[0;34m(self, input, final)\u001b[0m\n\u001b[1;32m    320\u001b[0m         \u001b[0;31m# decode input (taking the buffer into account)\u001b[0m\u001b[0;34m\u001b[0m\u001b[0;34m\u001b[0m\u001b[0m\n\u001b[1;32m    321\u001b[0m         \u001b[0mdata\u001b[0m \u001b[0;34m=\u001b[0m \u001b[0mself\u001b[0m\u001b[0;34m.\u001b[0m\u001b[0mbuffer\u001b[0m \u001b[0;34m+\u001b[0m \u001b[0minput\u001b[0m\u001b[0;34m\u001b[0m\u001b[0;34m\u001b[0m\u001b[0m\n\u001b[0;32m--> 322\u001b[0;31m         \u001b[0;34m(\u001b[0m\u001b[0mresult\u001b[0m\u001b[0;34m,\u001b[0m \u001b[0mconsumed\u001b[0m\u001b[0;34m)\u001b[0m \u001b[0;34m=\u001b[0m \u001b[0mself\u001b[0m\u001b[0;34m.\u001b[0m\u001b[0m_buffer_decode\u001b[0m\u001b[0;34m(\u001b[0m\u001b[0mdata\u001b[0m\u001b[0;34m,\u001b[0m \u001b[0mself\u001b[0m\u001b[0;34m.\u001b[0m\u001b[0merrors\u001b[0m\u001b[0;34m,\u001b[0m \u001b[0mfinal\u001b[0m\u001b[0;34m)\u001b[0m\u001b[0;34m\u001b[0m\u001b[0;34m\u001b[0m\u001b[0m\n\u001b[0m\u001b[1;32m    323\u001b[0m         \u001b[0;31m# keep undecoded input until the next call\u001b[0m\u001b[0;34m\u001b[0m\u001b[0;34m\u001b[0m\u001b[0m\n\u001b[1;32m    324\u001b[0m         \u001b[0mself\u001b[0m\u001b[0;34m.\u001b[0m\u001b[0mbuffer\u001b[0m \u001b[0;34m=\u001b[0m \u001b[0mdata\u001b[0m\u001b[0;34m[\u001b[0m\u001b[0mconsumed\u001b[0m\u001b[0;34m:\u001b[0m\u001b[0;34m]\u001b[0m\u001b[0;34m\u001b[0m\u001b[0;34m\u001b[0m\u001b[0m\n",
            "\u001b[0;31mUnicodeDecodeError\u001b[0m: 'utf-8' codec can't decode byte 0xe1 in position 9: invalid continuation byte"
          ]
        }
      ],
      "source": [
        "graph = {}\n",
        "nodes = set()\n",
        "edges = []\n",
        "with open('linky.txt','r') as file:\n",
        "    for line in file:\n",
        "        stanice = line.split(':  ')[1].strip('\\n').split(';')\n",
        "        linka =  line.split(':  ')[0]\n",
        "        print(linka)\n",
        "        for i,stanica in enumerate(stanice[:-1]):\n",
        "\n",
        "            nodes.add(stanica)\n",
        "            edges.append((stanice[i-1],stanica))\n",
        "            if i != 0:\n",
        "                try:\n",
        "                    graph[stanice[i-1]][stanica] += 1\n",
        "                except KeyError:\n",
        "                    try:\n",
        "                        graph[stanice[i-1]][stanica] = 1\n",
        "                    except KeyError:\n",
        "                        graph[stanice[i-1]] = {}\n",
        "                        graph[stanice[i-1]][stanica] = 1"
      ]
    },
    {
      "cell_type": "markdown",
      "metadata": {
        "id": "ucHMfPEHXt7A"
      },
      "source": [
        "Základné info"
      ]
    },
    {
      "cell_type": "code",
      "execution_count": null,
      "metadata": {
        "id": "6wWMdZtaXt7A"
      },
      "outputs": [],
      "source": [
        "n = len(nodes)\n",
        "m = len(edges)\n",
        "print(n,m)"
      ]
    },
    {
      "cell_type": "code",
      "execution_count": null,
      "metadata": {
        "id": "d9x-IJk5Xt7B"
      },
      "outputs": [],
      "source": [
        "for g in graph:\n",
        "    for r in graph[g]:\n",
        "        if g == r:\n",
        "            print(g)"
      ]
    },
    {
      "cell_type": "code",
      "execution_count": null,
      "metadata": {
        "id": "P3r_KiyxXt7B"
      },
      "outputs": [],
      "source": [
        "G = nx.DiGraph()\n",
        "for node in graph:\n",
        "    for neigbour in graph[node]:\n",
        "        G.add_edges_from([(node,neigbour)], weight = graph[node][neigbour])"
      ]
    },
    {
      "cell_type": "code",
      "execution_count": null,
      "metadata": {
        "id": "HzoEaNOrXt7B"
      },
      "outputs": [],
      "source": [
        "G.remove_edges_from(nx.selfloop_edges(G))\n"
      ]
    },
    {
      "cell_type": "code",
      "execution_count": null,
      "metadata": {
        "id": "0ekHgHeVXt7B"
      },
      "outputs": [],
      "source": [
        "G2 = nx.MultiDiGraph()\n",
        "for source, targets in graph.items():\n",
        "    for target, weight in targets.items():\n",
        "        for _ in range(weight):  # Add multiple edges if weight > 1\n",
        "            G2.add_edge(source, target)"
      ]
    },
    {
      "cell_type": "code",
      "execution_count": null,
      "metadata": {
        "id": "bNKNsL12Xt7B"
      },
      "outputs": [],
      "source": [
        "nx.closeness_centrality(G2)"
      ]
    },
    {
      "cell_type": "code",
      "execution_count": null,
      "metadata": {
        "id": "624ZpGSWXt7C"
      },
      "outputs": [],
      "source": [
        "print(nx.is_strongly_connected(G))\n",
        "nx.number_strongly_connected_components(G)\n",
        "nx.closeness_centrality(G)\n",
        "a = dict(nx.shortest_path_length(G))\n",
        "centrality = {}\n",
        "for station in a:\n",
        "    sum_dist = 0\n",
        "    for neigbour in a[station]:\n",
        "        sum_dist += a[station][neigbour]\n",
        "    centrality[station] = sum_dist/n\n",
        "\n",
        "minimal = float(\"inf\")\n",
        "maximal = 0\n",
        "uzol = \"\"\n",
        "koniec = \"\"\n",
        "for station in centrality:\n",
        "    if centrality[station] < minimal:\n",
        "        minimal = centrality[station]\n",
        "        uzol = station\n",
        "    if centrality[station] > maximal:\n",
        "        maximal = centrality[station]\n",
        "        koniec = station\n",
        "print(uzol, minimal)\n",
        "print(koniec, maximal)\n",
        "print(nx.closeness_centrality(G)['Račianske mýto'])\n",
        "print(nx.closeness_centrality(G)['Hlavná stanica'])\n",
        "print(nx.closeness_centrality(G)['Danubiana'])\n",
        "print(nx.betweenness_centrality(G))\n",
        "print(nx.degree_centrality(G))\n",
        "print(\"artikulacie\", list(nx.articulation_points(G.to_undirected())))\n",
        "print(\"mosty\", list(nx.bridges(G.to_undirected())))"
      ]
    },
    {
      "cell_type": "code",
      "execution_count": null,
      "metadata": {
        "id": "mDhh69IKXt7C"
      },
      "outputs": [],
      "source": [
        "\n",
        "edge_labels=dict([((u,v,),d['weight']) for u,v,d in G.edges(data=True)])\n",
        "dc = nx.degree_centrality(G)\n",
        "node_importance_values = [dc[node] * (n-1) for node in G.nodes()]\n",
        "print(node_importance_values)"
      ]
    },
    {
      "cell_type": "code",
      "execution_count": null,
      "metadata": {
        "id": "XwDTVijDXt7C"
      },
      "outputs": [],
      "source": [
        "\n",
        "colors = [(0, 'blue'), (0.5, 'green'), (0.75, 'yellow'), (1, 'red')]\n",
        "custom_cmap = LinearSegmentedColormap.from_list('custom_cmap', colors)\n",
        "\n",
        "# Calculate closeness centrality\n",
        "closeness_centrality = nx.closeness_centrality(G)\n",
        "\n",
        "# Create a colormap based on closeness centrality values\n",
        "node_colors = [closeness_centrality[node] for node in G.nodes()]\n",
        "\n",
        "plt.figure(figsize=(100, 100))\n",
        "\n",
        "pos = nx.kamada_kawai_layout(G)\n",
        "nx.draw_networkx_edge_labels(G, pos, edge_labels=edge_labels)\n",
        "nx.draw_networkx_labels(G, pos, font_size=5, font_family='sans-serif', font_color='black')\n",
        "\n",
        "# Draw the graph with node colors based on closeness centrality\n",
        "nodes = nx.draw(G, pos, node_color=node_colors, cmap=custom_cmap, node_size=[(np.log(val))*val * 50 for val in node_importance_values], edge_cmap=plt.cm.Reds)\n",
        "\n",
        "# Create a dummy mappable object for the colorbar\n",
        "dummy_mappable = plt.cm.ScalarMappable(cmap=custom_cmap)\n",
        "dummy_mappable.set_array([])  # Set an empty array\n",
        "\n",
        "# Add color bar\n",
        "cbar = plt.colorbar(dummy_mappable)\n",
        "cbar.set_label('Closeness Centrality')\n",
        "plt.savefig(\"pokus.png\")\n",
        "#plt.show()"
      ]
    },
    {
      "cell_type": "markdown",
      "metadata": {
        "id": "ikFjCpTOXt7D"
      },
      "source": [
        "Bipartitný graf"
      ]
    },
    {
      "cell_type": "code",
      "execution_count": null,
      "metadata": {
        "id": "-D-sPCj8Xt7D"
      },
      "outputs": [],
      "source": [
        "G_druhy = nx.DiGraph()\n",
        "line_counters = {}\n",
        "\n",
        "with open('linky.txt', 'r') as file:\n",
        "    for line in file:\n",
        "        parts = line.strip().split(\":\")\n",
        "        link_number = parts[0].strip()\n",
        "        stops = [stop.strip() for stop in parts[1].split(\";\")][:-1]\n",
        "        # Ked uz jednu linku \"4\" mame, pridame k tej druhej \"A\" aby sme ich vedeli rozlisit\n",
        "        if link_number in line_counters:\n",
        "            line_label = f\"{link_number}{chr(64 + line_counters[link_number])}\"\n",
        "            line_counters[link_number] += 1\n",
        "        else:\n",
        "            line_label = link_number\n",
        "            line_counters[link_number] = 1\n",
        "        # Pridanie hrán medzi zastávkami v rámci linky\n",
        "        for i in range(len(stops) - 1):\n",
        "            G_druhy.add_edge(stops[i], stops[i+1], line=line_label)\n",
        "        print(line_label)\n",
        "        print(stops)"
      ]
    },
    {
      "cell_type": "code",
      "execution_count": null,
      "metadata": {
        "id": "G0H849juXt7D"
      },
      "outputs": [],
      "source": [
        "# Nájdenie najkratšej cesty\n",
        "def find_shortest_path_with_transfers(graph, start, end):\n",
        "    try:\n",
        "        shortest_path = nx.shortest_path(graph, start, end)\n",
        "        return shortest_path\n",
        "    except nx.NetworkXNoPath:\n",
        "        return None\n",
        "\n",
        "# Nájdenie najkratšej cesty\n",
        "start_stop = \"Nad lúčkami\"\n",
        "end_stop = \"Cintorín Slávičie\"\n",
        "shortest_path = find_shortest_path_with_transfers(G_druhy, start_stop, end_stop)\n",
        "\n",
        "# Výpis najkratšej cesty\n",
        "print(\"Najkratšia cesta:\")\n",
        "if shortest_path:\n",
        "    print(shortest_path)\n",
        "else:\n",
        "    print(\"Cesta nebola nájdená.\")"
      ]
    },
    {
      "cell_type": "code",
      "execution_count": null,
      "metadata": {
        "id": "iP9FAj7xXt7E"
      },
      "outputs": [],
      "source": [
        "start_stop = \"Nad lúčkami\"\n",
        "end_stop = \"Cintorín Slávičie\"\n",
        "shortest_path = find_shortest_path_with_transfers(G_druhy, start_stop, end_stop)\n",
        "\n",
        "# Výpis najkratšej cesty\n",
        "print(\"Najkratšia cesta:\")\n",
        "if shortest_path:\n",
        "    print(shortest_path)\n",
        "else:\n",
        "    print(\"Cesta nebola nájdená.\")"
      ]
    },
    {
      "cell_type": "markdown",
      "metadata": {
        "id": "tlGQ3hLvXt7E"
      },
      "source": [
        "Najkratšia cesta pre každú dvojicu"
      ]
    },
    {
      "cell_type": "code",
      "execution_count": null,
      "metadata": {
        "id": "ll8ZfG5hXt7E"
      },
      "outputs": [],
      "source": [
        "transfers = {node: {} for node in G_druhy.nodes()}"
      ]
    },
    {
      "cell_type": "code",
      "execution_count": null,
      "metadata": {
        "id": "skhVWGs2Xt7E"
      },
      "outputs": [],
      "source": [
        "for node1 in G_druhy.nodes():\n",
        "    for node2 in G_druhy.nodes():\n",
        "        if node1 != node2:\n",
        "            value = len(find_shortest_path_with_transfers(G_druhy, node1, node2))\n",
        "            transfers[node1][node2] = value\n",
        "            transfers[node2][node1] = value"
      ]
    },
    {
      "cell_type": "code",
      "execution_count": null,
      "metadata": {
        "id": "w5LS4l_gXt7E"
      },
      "outputs": [],
      "source": [
        "find_shortest_path_with_transfers(G_druhy, \"STU\", \"STU\")"
      ]
    },
    {
      "cell_type": "markdown",
      "metadata": {
        "id": "DbYgKFz3Xt7E"
      },
      "source": [
        "Môj pokus o bipartitný graf"
      ]
    },
    {
      "cell_type": "code",
      "execution_count": null,
      "metadata": {
        "id": "Z2JrAbu-Xt7F"
      },
      "outputs": [],
      "source": [
        "Gb = nx.Graph()\n",
        "line_counters = {}\n",
        "\n",
        "with open('linky.txt', 'r') as file:\n",
        "    for line in file:\n",
        "        parts = line.strip().split(\":\")\n",
        "        link_number = parts[0].strip()\n",
        "        stops = [stop.strip() for stop in parts[1].split(\";\")][:-1]\n",
        "        #print(stops)\n",
        "        Gb.add_node(link_number, bipartite = 0)\n",
        "        Gb.add_nodes_from(stops, bipartite = 1)\n",
        "        for stop in stops:\n",
        "            Gb.add_edge(link_number, stop)\n",
        "\n"
      ]
    },
    {
      "cell_type": "code",
      "execution_count": null,
      "metadata": {
        "id": "5TO1fCzWXt7F"
      },
      "outputs": [],
      "source": [
        "nx.is_connected(Gb)\n",
        "#Gb.nodes()\n",
        "#connected_components = list(nx.connected_components(Gb))\n",
        "#len(connected_components)\n",
        "#connected_components\n",
        "plt.figure(figsize=(50, 50))\n",
        "pos = nx.bipartite_layout(Gb, nx.bipartite.sets(Gb)[0])\n",
        "nx.draw(Gb, pos=pos, with_labels=True)\n",
        "#plt.show()"
      ]
    },
    {
      "cell_type": "code",
      "execution_count": null,
      "metadata": {
        "id": "3-F4t6kSXt7F"
      },
      "outputs": [],
      "source": [
        "least_transfer = {station: {} for station in G.nodes()}\n",
        "for station1 in G.nodes():\n",
        "    for station2 in G.nodes():\n",
        "        if station1 != station2:\n",
        "            path = find_shortest_path_with_transfers(Gb, station1, station2)\n",
        "            least_transfer[station1][station2] = path\n",
        "            least_transfer[station2][station1] = path[::-1]\n"
      ]
    }
  ],
  "metadata": {
    "kernelspec": {
      "display_name": "Python 3",
      "language": "python",
      "name": "python3"
    },
    "language_info": {
      "codemirror_mode": {
        "name": "ipython",
        "version": 3
      },
      "file_extension": ".py",
      "mimetype": "text/x-python",
      "name": "python",
      "nbconvert_exporter": "python",
      "pygments_lexer": "ipython3",
      "version": "3.11.1"
    },
    "colab": {
      "provenance": []
    }
  },
  "nbformat": 4,
  "nbformat_minor": 0
}